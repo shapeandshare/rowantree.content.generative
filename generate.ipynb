{
 "cells": [
  {
   "cell_type": "code",
   "execution_count": null,
   "metadata": {
    "collapsed": true,
    "pycharm": {
     "name": "#%%\n"
    }
   },
   "outputs": [],
   "source": [
    "from pydantic import BaseModel\n",
    "from transformers import Pipeline, pipeline"
   ]
  },
  {
   "cell_type": "code",
   "execution_count": null,
   "outputs": [],
   "source": [
    "class Prediction(BaseModel):\n",
    "    generated_text: str\n",
    "\n",
    "\n",
    "class Predictions(BaseModel):\n",
    "    results: list[Prediction]\n",
    "\n",
    "\n",
    "class Event(BaseModel):\n",
    "    title: str\n",
    "    text: str"
   ],
   "metadata": {
    "collapsed": false,
    "pycharm": {
     "name": "#%%\n"
    }
   }
  },
  {
   "cell_type": "code",
   "execution_count": null,
   "outputs": [],
   "source": [
    "generator: Pipeline = pipeline(\"text-generation\", model=\"gpt2\")"
   ],
   "metadata": {
    "collapsed": false,
    "pycharm": {
     "name": "#%%\n"
    }
   }
  },
  {
   "cell_type": "code",
   "execution_count": null,
   "outputs": [],
   "source": [
    "from math import floor\n",
    "\n",
    "\n",
    "class PromptProcessor:\n",
    "    epochs: int = 10\n",
    "    max_length: int = 50\n",
    "    num_responses: int = 10\n",
    "\n",
    "    def execute(self, prompts: list[str]) -> list[Predictions]:\n",
    "        results: list[Predictions] = []\n",
    "\n",
    "        for prompt in prompts:\n",
    "            for i in range(self.epochs):\n",
    "                max_length: int = floor(((i + 1) / self.epochs) * self.max_length) + len(prompt)\n",
    "\n",
    "                print(f\"epoch: {i+1}, max length: {max_length}\")\n",
    "                predictions_dict = generator(prompt, max_length=max_length, num_return_sequences=self.num_responses)\n",
    "                predictions: Predictions = Predictions.parse_obj({\"results\": predictions_dict})\n",
    "                results.append(predictions)\n",
    "        return results"
   ],
   "metadata": {
    "collapsed": false,
    "pycharm": {
     "name": "#%%\n"
    }
   }
  },
  {
   "cell_type": "code",
   "execution_count": null,
   "outputs": [],
   "source": [
    "# prompts: list[str] = [\"A robot\", \"A lone wanderer\", \"A crashing plane\", \"A swarm of spiders\"]\n",
    "prompts: list[str] = [\"A safe haven\", \"A promising\", \"With joy in their hearts\"]\n",
    "samples: list[Predictions] = PromptProcessor().execute(prompts=prompts)"
   ],
   "metadata": {
    "collapsed": false,
    "pycharm": {
     "name": "#%%\n"
    }
   }
  },
  {
   "cell_type": "code",
   "execution_count": null,
   "outputs": [],
   "source": [
    "samples"
   ],
   "metadata": {
    "collapsed": false,
    "pycharm": {
     "name": "#%%\n"
    }
   }
  },
  {
   "cell_type": "code",
   "execution_count": null,
   "outputs": [],
   "source": [
    "import json\n",
    "\n",
    "with open(file=\"samples.json\", mode=\"w\", encoding=\"utf-8\") as file:\n",
    "    items = []\n",
    "    for element in samples:\n",
    "        items.append(element.dict())\n",
    "\n",
    "    json.dump({\"samples\": items}, file)"
   ],
   "metadata": {
    "collapsed": false,
    "pycharm": {
     "name": "#%%\n"
    }
   }
  },
  {
   "cell_type": "code",
   "execution_count": null,
   "outputs": [],
   "source": [
    "import traceback\n",
    "from typing import Any, Optional\n",
    "import string\n",
    "\n",
    "\n",
    "class LineScore(BaseModel):\n",
    "    text: str\n",
    "    length: Optional[int]\n",
    "    # float (0->1) percentage of the string\n",
    "    lower: Optional[float]\n",
    "    upper: Optional[float]\n",
    "    numeric: Optional[float]\n",
    "    white_space: Optional[float]\n",
    "    punc: Optional[float]\n",
    "    total: Optional[float]\n",
    "    newline: Optional[float]\n",
    "\n",
    "    def __init__(self, **data: Any):\n",
    "        super().__init__(**data)\n",
    "\n",
    "        self.length: int = len(self.text)\n",
    "        white_space_count: int = len([i for i in self.text if i.isspace()])\n",
    "        punc_count: int = len([i for i in self.text if i in string.punctuation])\n",
    "        digits_count: int = len([i for i in self.text if i in string.digits])\n",
    "        lower_count: int = len([i for i in self.text if i in string.ascii_lowercase])\n",
    "        upper_count: int = len([i for i in self.text if i in string.ascii_uppercase])\n",
    "        newline_count: int = len([i for i in self.text if i == \"\\n\"])\n",
    "\n",
    "        self.lower = lower_count / self.length\n",
    "        self.upper = upper_count / self.length\n",
    "        self.numeric = digits_count / self.length\n",
    "        self.white_space = white_space_count / self.length\n",
    "        self.punc = punc_count / self.length\n",
    "        self.newline = newline_count / self.length\n",
    "\n",
    "        try:\n",
    "            self.total = self.lower + self.upper + self.numeric + self.white_space + self.punc + self.newline\n",
    "        except Exception as error:\n",
    "            traceback.print_exc()\n",
    "            print(self.text)\n",
    "            raise error"
   ],
   "metadata": {
    "collapsed": false,
    "pycharm": {
     "name": "#%%\n"
    }
   }
  },
  {
   "cell_type": "code",
   "execution_count": null,
   "outputs": [],
   "source": [
    "import pandas as pd\n",
    "\n",
    "columns = [\"text\", \"length\", \"lower\", \"upper\", \"numeric\", \"white_space\", \"punc\", \"total\", \"newline\"]\n",
    "data_dict = {}\n",
    "for epoch in samples:\n",
    "    for event in epoch.results:\n",
    "        # print(event.generated_text)\n",
    "        score = LineScore(text=event.generated_text)\n",
    "        score_dict = score.dict()\n",
    "        # print(score_dict)\n",
    "        for column in columns:\n",
    "            if column not in data_dict:\n",
    "                data_dict[column] = [score_dict[column]]\n",
    "            else:\n",
    "                data_dict[column].append(score_dict[column])\n",
    "# print(data_dict)\n",
    "score_df = pd.DataFrame.from_dict(data_dict)"
   ],
   "metadata": {
    "collapsed": false,
    "pycharm": {
     "name": "#%%\n"
    }
   }
  },
  {
   "cell_type": "code",
   "execution_count": null,
   "outputs": [],
   "source": [
    "score_df"
   ],
   "metadata": {
    "collapsed": false,
    "pycharm": {
     "name": "#%%\n"
    }
   }
  },
  {
   "cell_type": "markdown",
   "source": [
    "Excluded due to high occurrence of punctuation"
   ],
   "metadata": {
    "collapsed": false,
    "pycharm": {
     "name": "#%% md\n"
    }
   }
  },
  {
   "cell_type": "markdown",
   "source": [
    "by quantile"
   ],
   "metadata": {
    "collapsed": false,
    "pycharm": {
     "name": "#%% md\n"
    }
   }
  },
  {
   "cell_type": "code",
   "execution_count": null,
   "outputs": [],
   "source": [
    "mean_quantile = score_df.loc[:, ~score_df.columns.isin([\"text\"])].quantile(0.3)"
   ],
   "metadata": {
    "collapsed": false,
    "pycharm": {
     "name": "#%%\n"
    }
   }
  },
  {
   "cell_type": "code",
   "execution_count": null,
   "outputs": [],
   "source": [
    "mean_quantile"
   ],
   "metadata": {
    "collapsed": false,
    "pycharm": {
     "name": "#%%\n"
    }
   }
  },
  {
   "cell_type": "code",
   "execution_count": null,
   "outputs": [],
   "source": [
    "filtered_df = score_df\n",
    "filtered_df = filtered_df[filtered_df.upper <= mean_quantile.upper]\n",
    "filtered_df = filtered_df[filtered_df.numeric <= mean_quantile.numeric]\n",
    "filtered_df = filtered_df[filtered_df.punc <= mean_quantile.punc]\n",
    "filtered_df = filtered_df[filtered_df.newline <= mean_quantile.newline]\n",
    "\n",
    "\n",
    "# filtered_df = filtered_df[score_df.length <= mean_quantile.length]\n",
    "# filtered_df = filtered_df[filtered_df.lower <= mean_quantile.lower]\n",
    "# filtered_df = filtered_df[filtered_df.white_space <= mean_quantile.white_space]"
   ],
   "metadata": {
    "collapsed": false,
    "pycharm": {
     "name": "#%%\n"
    }
   }
  },
  {
   "cell_type": "code",
   "execution_count": null,
   "outputs": [],
   "source": [
    "filtered_df"
   ],
   "metadata": {
    "collapsed": false,
    "pycharm": {
     "name": "#%%\n"
    }
   }
  },
  {
   "cell_type": "markdown",
   "source": [
    "# Trim to sentences"
   ],
   "metadata": {
    "collapsed": false,
    "pycharm": {
     "name": "#%% md\n"
    }
   }
  },
  {
   "cell_type": "code",
   "execution_count": null,
   "outputs": [],
   "source": [
    "filtered_df.to_csv(\"filtered.csv\")"
   ],
   "metadata": {
    "collapsed": false,
    "pycharm": {
     "name": "#%%\n"
    }
   }
  }
 ],
 "metadata": {
  "kernelspec": {
   "display_name": "Python 3",
   "language": "python",
   "name": "python3"
  },
  "language_info": {
   "codemirror_mode": {
    "name": "ipython",
    "version": 2
   },
   "file_extension": ".py",
   "mimetype": "text/x-python",
   "name": "python",
   "nbconvert_exporter": "python",
   "pygments_lexer": "ipython2",
   "version": "2.7.6"
  }
 },
 "nbformat": 4,
 "nbformat_minor": 0
}